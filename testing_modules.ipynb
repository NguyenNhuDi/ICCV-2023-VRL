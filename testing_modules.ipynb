{
 "cells": [
  {
   "cell_type": "code",
   "execution_count": 1,
   "metadata": {},
   "outputs": [],
   "source": [
    "from src.models.utils import *\n",
    "from src.models.model_generator import ModelGenerator\n",
    "import torch\n",
    "import glob\n",
    "from torchsummary import summary\n",
    "\n",
    "%load_ext autoreload\n",
    "\n",
    "%autoreload 2"
   ]
  },
  {
   "cell_type": "code",
   "execution_count": null,
   "metadata": {},
   "outputs": [],
   "source": [
    "def get_n_params(model):\n",
    "    pp=0\n",
    "    for p in list(model.parameters()):\n",
    "        nn=1\n",
    "        for s in list(p.size()):\n",
    "            nn = nn*s\n",
    "        pp += nn\n",
    "    return pp\n",
    "\n",
    "path = '/home/student/andrew/Documents/Seg3D/src/models/good_models/DSC/baseline_nnunet.json'\n",
    "module = ModelGenerator(path)\n",
    "summary(module.get_model(), (1, 128, 128, 128), device='cpu')"
   ]
  },
  {
   "cell_type": "code",
   "execution_count": 4,
   "metadata": {},
   "outputs": [
    {
     "name": "stdout",
     "output_type": "stream",
     "text": [
      "/usr/bin/bash: /home/student/andrew/anaconda3/lib/libtinfo.so.6: no version information available (required by /usr/bin/bash)\n"
     ]
    }
   ],
   "source": [
    "!export CUDA_VISIBLE_DEVICES=1"
   ]
  },
  {
   "cell_type": "code",
   "execution_count": 7,
   "metadata": {},
   "outputs": [
    {
     "name": "stdout",
     "output_type": "stream",
     "text": [
      "torch.Size([1, 3, 128, 128, 128])\n",
      "torch.Size([1, 3, 128, 128, 128])\n"
     ]
    }
   ],
   "source": [
    "mode = \"3d\"\n",
    "ModuleStateController.set_state(mode)\n",
    "\n",
    "if mode == \"3d\":\n",
    "    x = torch.rand((1, 1, 128, 128, 128))\n",
    "else:\n",
    "    x = torch.rand((1, 1, 256, 256))\n",
    "\n",
    "\n",
    "for path in glob.glob('/home/student/andrew/Documents/Seg3D/src/models/heavy_models/**/*.json', recursive=True):\n",
    "    module = ModelGenerator(path)\n",
    "    try:\n",
    "        print(module.get_model()(x).shape)\n",
    "    except:\n",
    "        print(path)\n",
    "        module.get_model()(x)"
   ]
  },
  {
   "cell_type": "code",
   "execution_count": null,
   "metadata": {},
   "outputs": [],
   "source": [
    "state = module.state_dict()\n",
    "print(state)\n",
    "state[0]"
   ]
  },
  {
   "cell_type": "code",
   "execution_count": null,
   "metadata": {},
   "outputs": [],
   "source": [
    "import torch\n",
    "\n",
    "torch.cuda.is_available()"
   ]
  },
  {
   "cell_type": "code",
   "execution_count": null,
   "metadata": {},
   "outputs": [],
   "source": [
    "import logging\n",
    "logging.basicConfig(filename='test.txt',\n",
    "                    filemode='a',\n",
    "                    format='%(asctime)s,%(msecs)d %(levelname)s %(message)s',\n",
    "                    datefmt='%H:%M:%S',\n",
    "                    level=logging.INFO)\n"
   ]
  },
  {
   "cell_type": "code",
   "execution_count": null,
   "metadata": {},
   "outputs": [],
   "source": [
    "logging.getLogger(__name__).info('faskdjh')"
   ]
  },
  {
   "cell_type": "code",
   "execution_count": null,
   "metadata": {},
   "outputs": [],
   "source": [
    "import numpy as np\n",
    "import nibabel as nb\n",
    "import os"
   ]
  },
  {
   "cell_type": "code",
   "execution_count": null,
   "metadata": {},
   "outputs": [],
   "source": [
    "for i in range(3):\n",
    "    mask = np.round(np.random.rand(512, 512, 512))\n",
    "    image = np.random.rand(512, 512, 512)\n",
    "\n",
    "    try:\n",
    "        os.mkdir(f\"/home/andrewheschl/Documents/3DSegmentation/datasets/random/data/000{i}\")\n",
    "    except:\n",
    "        print(\"f\")\n",
    "\n",
    "    img = nb.Nifti1Image(mask, np.eye(4))  # Save axis for data (just identity)\n",
    "    img.to_filename(f\"/home/andrewheschl/Documents/3DSegmentation/datasets/random/data/000{i}/segmentation.nii.gz\")\n",
    "\n",
    "    img = nb.Nifti1Image(image, np.eye(4))  # Save axis for data (just identity)\n",
    "    img.to_filename(f\"/home/andrewheschl/Documents/3DSegmentation/datasets/random/data/000{i}/imaging.nii.gz\")"
   ]
  },
  {
   "cell_type": "code",
   "execution_count": null,
   "metadata": {},
   "outputs": [],
   "source": [
    "from monai.transforms import AsDiscrete\n",
    "\n",
    "array = np.random.rand(2, 2)\n",
    "print(array)\n",
    "print(AsDiscrete(threshold=0.5)(array))"
   ]
  }
 ],
 "metadata": {
  "kernelspec": {
   "display_name": "base",
   "language": "python",
   "name": "python3"
  },
  "language_info": {
   "codemirror_mode": {
    "name": "ipython",
    "version": 3
   },
   "file_extension": ".py",
   "mimetype": "text/x-python",
   "name": "python",
   "nbconvert_exporter": "python",
   "pygments_lexer": "ipython3",
   "version": "3.10.11"
  },
  "orig_nbformat": 4
 },
 "nbformat": 4,
 "nbformat_minor": 2
}
